{
 "cells": [
  {
   "cell_type": "code",
   "execution_count": 1,
   "metadata": {},
   "outputs": [],
   "source": [
    "###\n",
    "### Practical Statistics for Data Sceintists\n",
    "###"
   ]
  },
  {
   "cell_type": "code",
   "execution_count": null,
   "metadata": {},
   "outputs": [],
   "source": []
  },
  {
   "cell_type": "code",
   "execution_count": 11,
   "metadata": {},
   "outputs": [],
   "source": [
    "import pandas as pd\n",
    "from scipy import stats\n",
    "import numpy as np\n",
    "import wquantiles"
   ]
  },
  {
   "cell_type": "code",
   "execution_count": 3,
   "metadata": {},
   "outputs": [
    {
     "data": {
      "text/plain": [
       "'/mnt/d/my-coding/practical-statistics/python'"
      ]
     },
     "execution_count": 3,
     "metadata": {},
     "output_type": "execute_result"
    }
   ],
   "source": [
    "pwd"
   ]
  },
  {
   "cell_type": "code",
   "execution_count": 4,
   "metadata": {},
   "outputs": [],
   "source": [
    "# I dont know why, but in order for me to run the pwd command\n",
    "# i had to leave it on its own line\n",
    "# maybe because its a bash command, i could have tried differently, import os or something?"
   ]
  },
  {
   "cell_type": "code",
   "execution_count": 5,
   "metadata": {},
   "outputs": [],
   "source": [
    "# read the data file into memory\n",
    "state = pd.read_csv('/mnt/d/my-coding/practical-statistics-4-ds-book/data//state.csv')"
   ]
  },
  {
   "cell_type": "code",
   "execution_count": 6,
   "metadata": {},
   "outputs": [
    {
     "name": "stdout",
     "output_type": "stream",
     "text": [
      "6162876.3\n",
      "4783697.125\n",
      "4436369.5\n"
     ]
    }
   ],
   "source": [
    "state_mean = state['Population'].mean()\n",
    "print ( state_mean )\n",
    "state_mean_trimmed_01 = stats.trim_mean(state['Population'], 0.1)\n",
    "print ( state_mean_trimmed_01 )\n",
    "state_median = state['Population'].median()\n",
    "print ( state_median )"
   ]
  },
  {
   "cell_type": "code",
   "execution_count": 9,
   "metadata": {},
   "outputs": [
    {
     "name": "stdout",
     "output_type": "stream",
     "text": [
      "4.445833981123393\n"
     ]
    }
   ],
   "source": [
    "state_weighted_mean = np.average(state['Murder.Rate'], weights=state['Population'])\n",
    "print(state_weighted_mean)"
   ]
  },
  {
   "cell_type": "code",
   "execution_count": 12,
   "metadata": {},
   "outputs": [
    {
     "name": "stdout",
     "output_type": "stream",
     "text": [
      "4.4\n"
     ]
    }
   ],
   "source": [
    "state_weighted_median = wquantiles.median(state['Murder.Rate'], weights=state['Population'])\n",
    "print(state_weighted_median)"
   ]
  },
  {
   "cell_type": "code",
   "execution_count": null,
   "metadata": {},
   "outputs": [],
   "source": [
    "## key ideas\n",
    "## basic metric for location is the mean, but it can be sensaitive to extreme values aka outliers\n",
    "## other metrics such as median and trimmed mean are less sensitive to outliers and unusal distributions and hence are more robust"
   ]
  }
 ],
 "metadata": {
  "kernelspec": {
   "display_name": "py36stats",
   "language": "python",
   "name": "py36stats"
  },
  "language_info": {
   "codemirror_mode": {
    "name": "ipython",
    "version": 3
   },
   "file_extension": ".py",
   "mimetype": "text/x-python",
   "name": "python",
   "nbconvert_exporter": "python",
   "pygments_lexer": "ipython3",
   "version": "3.6.12"
  }
 },
 "nbformat": 4,
 "nbformat_minor": 4
}
